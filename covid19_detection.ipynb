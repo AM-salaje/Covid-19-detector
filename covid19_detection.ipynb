{
 "cells": [
  {
   "cell_type": "code",
   "execution_count": 1,
   "metadata": {},
   "outputs": [],
   "source": [
    "from tensorflow.keras.preprocessing.image import ImageDataGenerator\n",
    "from tensorflow.keras.applications import VGG16\n",
    "from tensorflow.keras.layers import AveragePooling2D\n",
    "from tensorflow.keras.layers import Dropout\n",
    "from tensorflow.keras.layers import Flatten\n",
    "from tensorflow.keras.layers import Dense\n",
    "from tensorflow.keras.layers import Input\n",
    "from tensorflow.keras.models import Model\n",
    "from tensorflow.keras.optimizers import Adam\n",
    "from tensorflow.keras.utils import to_categorical\n",
    "from sklearn.preprocessing import LabelBinarizer\n",
    "from sklearn.model_selection import train_test_split\n",
    "from sklearn.metrics import classification_report\n",
    "from sklearn.metrics import confusion_matrix\n",
    "from imutils import paths\n",
    "import matplotlib.pyplot as plt\n",
    "import numpy as np\n",
    "import argparse\n",
    "import cv2\n",
    "import os\n",
    "\n"
   ]
  },
  {
   "cell_type": "code",
   "execution_count": 18,
   "metadata": {},
   "outputs": [],
   "source": [
    "INIT_LR = 1e-3\n",
    "EPOCHS = 10\n",
    "BS = 32"
   ]
  },
  {
   "cell_type": "code",
   "execution_count": 3,
   "metadata": {},
   "outputs": [],
   "source": [
    "data_dir = 'D:/DatasetsCD/train/'\n",
    "Categories = [\"COVID\",\"NORMAL\"]\n",
    "\n",
    "\n",
    "\n",
    "train_data = []\n",
    "train_labels = []\n",
    "\n",
    "for category in Categories:\n",
    "    path = os.path.join(data_dir,category)\n",
    "    class_num = Categories.index(category)\n",
    "    for img in(os.listdir(path)):\n",
    "        try:\n",
    "            img_array = cv2.imread(os.path.join(path,img),cv2.IMREAD_COLOR)\n",
    "            img_array = cv2.cvtColor(img_array,cv2.COLOR_BGR2RGB)\n",
    "            #img_array = img_array.astype('float32')\n",
    "            new_array = cv2.resize(img_array,(224 ,224))\n",
    "            train_data.append([np.array(new_array),class_num])\n",
    "        except Exception as e:\n",
    "            pass"
   ]
  },
  {
   "cell_type": "code",
   "execution_count": 29,
   "metadata": {},
   "outputs": [
    {
     "name": "stdout",
     "output_type": "stream",
     "text": [
      "3041\n"
     ]
    }
   ],
   "source": [
    "#print(len(labels))\n",
    "print(len(train_data))"
   ]
  },
  {
   "cell_type": "code",
   "execution_count": 30,
   "metadata": {},
   "outputs": [
    {
     "name": "stdout",
     "output_type": "stream",
     "text": [
      "(3041, 224, 224, 3)\n",
      "(3041,)\n"
     ]
    }
   ],
   "source": [
    "train_img=[]\n",
    "labels = []\n",
    "\n",
    "for features, label in (train_data):\n",
    "    train_img.append(features)\n",
    "    labels.append(label)\n",
    "\n",
    "train_img = np.array(train_img)/255\n",
    "labels = np.array(labels)\n",
    "\n",
    "print(train_img.shape)\n",
    "print(labels.shape)"
   ]
  },
  {
   "cell_type": "code",
   "execution_count": 31,
   "metadata": {},
   "outputs": [],
   "source": [
    "## split our data set to train and validation\n",
    "\n",
    "(X_train, X_val, Y_train, Y_val) = train_test_split(train_img, labels,\n",
    "\ttest_size=0.2, stratify=labels, random_state=42)"
   ]
  },
  {
   "cell_type": "code",
   "execution_count": 32,
   "metadata": {},
   "outputs": [
    {
     "name": "stdout",
     "output_type": "stream",
     "text": [
      "(2432, 224, 224, 3)\n",
      "(609, 224, 224, 3)\n"
     ]
    }
   ],
   "source": [
    "print(X_train.shape)\n",
    "print(X_val.shape)"
   ]
  },
  {
   "cell_type": "code",
   "execution_count": 33,
   "metadata": {},
   "outputs": [],
   "source": [
    "## data augmentation initialisation\n",
    "\n",
    "trainAug = ImageDataGenerator(\n",
    "\trotation_range=15,\n",
    "\tfill_mode=\"nearest\")"
   ]
  },
  {
   "cell_type": "code",
   "execution_count": 34,
   "metadata": {},
   "outputs": [],
   "source": [
    "## load Vgg-16 model and weights for transfer learning task\n",
    "\n",
    "baseModel = VGG16(weights=\"imagenet\", include_top=False,\n",
    "\tinput_tensor=Input(shape=(224, 224, 3)))"
   ]
  },
  {
   "cell_type": "code",
   "execution_count": 35,
   "metadata": {},
   "outputs": [],
   "source": [
    "headModel = baseModel.output\n",
    "headModel = AveragePooling2D(pool_size=(4, 4))(headModel)\n",
    "headModel = Flatten(name=\"flatten\")(headModel)\n",
    "\n",
    "headModel = Dense(128, activation=\"relu\")(headModel)\n",
    "headModel = Dropout(0.5)(headModel)\n",
    "\n",
    "headModel = Dense(64, activation=\"relu\")(headModel)\n",
    "headModel = Dropout(0.5)(headModel)\n",
    "\n",
    "headModel = Dense(1, activation=\"sigmoid\")(headModel)\n"
   ]
  },
  {
   "cell_type": "code",
   "execution_count": 36,
   "metadata": {},
   "outputs": [],
   "source": [
    "model = Model(inputs=baseModel.input, outputs=headModel)"
   ]
  },
  {
   "cell_type": "code",
   "execution_count": 37,
   "metadata": {},
   "outputs": [],
   "source": [
    "for layer in baseModel.layers:\n",
    "\tlayer.trainable = False"
   ]
  },
  {
   "cell_type": "code",
   "execution_count": 38,
   "metadata": {},
   "outputs": [
    {
     "name": "stdout",
     "output_type": "stream",
     "text": [
      "[INFO] compiling model...\n"
     ]
    }
   ],
   "source": [
    "# define adam optimizer and our loss function\n",
    "\n",
    "print(\"[INFO] compiling model...\")\n",
    "opt = Adam(lr=INIT_LR, decay=INIT_LR / EPOCHS)\n",
    "model.compile(loss=\"binary_crossentropy\", optimizer=opt,\n",
    "\tmetrics=[\"accuracy\"])\n"
   ]
  },
  {
   "cell_type": "code",
   "execution_count": 39,
   "metadata": {},
   "outputs": [
    {
     "name": "stdout",
     "output_type": "stream",
     "text": [
      "Model: \"model_1\"\n",
      "_________________________________________________________________\n",
      "Layer (type)                 Output Shape              Param #   \n",
      "=================================================================\n",
      "input_2 (InputLayer)         [(None, 224, 224, 3)]     0         \n",
      "_________________________________________________________________\n",
      "block1_conv1 (Conv2D)        (None, 224, 224, 64)      1792      \n",
      "_________________________________________________________________\n",
      "block1_conv2 (Conv2D)        (None, 224, 224, 64)      36928     \n",
      "_________________________________________________________________\n",
      "block1_pool (MaxPooling2D)   (None, 112, 112, 64)      0         \n",
      "_________________________________________________________________\n",
      "block2_conv1 (Conv2D)        (None, 112, 112, 128)     73856     \n",
      "_________________________________________________________________\n",
      "block2_conv2 (Conv2D)        (None, 112, 112, 128)     147584    \n",
      "_________________________________________________________________\n",
      "block2_pool (MaxPooling2D)   (None, 56, 56, 128)       0         \n",
      "_________________________________________________________________\n",
      "block3_conv1 (Conv2D)        (None, 56, 56, 256)       295168    \n",
      "_________________________________________________________________\n",
      "block3_conv2 (Conv2D)        (None, 56, 56, 256)       590080    \n",
      "_________________________________________________________________\n",
      "block3_conv3 (Conv2D)        (None, 56, 56, 256)       590080    \n",
      "_________________________________________________________________\n",
      "block3_pool (MaxPooling2D)   (None, 28, 28, 256)       0         \n",
      "_________________________________________________________________\n",
      "block4_conv1 (Conv2D)        (None, 28, 28, 512)       1180160   \n",
      "_________________________________________________________________\n",
      "block4_conv2 (Conv2D)        (None, 28, 28, 512)       2359808   \n",
      "_________________________________________________________________\n",
      "block4_conv3 (Conv2D)        (None, 28, 28, 512)       2359808   \n",
      "_________________________________________________________________\n",
      "block4_pool (MaxPooling2D)   (None, 14, 14, 512)       0         \n",
      "_________________________________________________________________\n",
      "block5_conv1 (Conv2D)        (None, 14, 14, 512)       2359808   \n",
      "_________________________________________________________________\n",
      "block5_conv2 (Conv2D)        (None, 14, 14, 512)       2359808   \n",
      "_________________________________________________________________\n",
      "block5_conv3 (Conv2D)        (None, 14, 14, 512)       2359808   \n",
      "_________________________________________________________________\n",
      "block5_pool (MaxPooling2D)   (None, 7, 7, 512)         0         \n",
      "_________________________________________________________________\n",
      "average_pooling2d_1 (Average (None, 1, 1, 512)         0         \n",
      "_________________________________________________________________\n",
      "flatten (Flatten)            (None, 512)               0         \n",
      "_________________________________________________________________\n",
      "dense_3 (Dense)              (None, 128)               65664     \n",
      "_________________________________________________________________\n",
      "dropout_2 (Dropout)          (None, 128)               0         \n",
      "_________________________________________________________________\n",
      "dense_4 (Dense)              (None, 64)                8256      \n",
      "_________________________________________________________________\n",
      "dropout_3 (Dropout)          (None, 64)                0         \n",
      "_________________________________________________________________\n",
      "dense_5 (Dense)              (None, 1)                 65        \n",
      "=================================================================\n",
      "Total params: 14,788,673\n",
      "Trainable params: 73,985\n",
      "Non-trainable params: 14,714,688\n",
      "_________________________________________________________________\n",
      "None\n"
     ]
    }
   ],
   "source": [
    "print(model.summary())"
   ]
  },
  {
   "cell_type": "code",
   "execution_count": 40,
   "metadata": {},
   "outputs": [
    {
     "name": "stdout",
     "output_type": "stream",
     "text": [
      "[INFO] training head...\n",
      "WARNING:tensorflow:sample_weight modes were coerced from\n",
      "  ...\n",
      "    to  \n",
      "  ['...']\n",
      "Train for 76 steps, validate on 609 samples\n",
      "Epoch 1/10\n",
      "76/76 [==============================] - 28s 373ms/step - loss: 0.4413 - accuracy: 0.8002 - val_loss: 0.1488 - val_accuracy: 0.9523\n",
      "Epoch 2/10\n",
      "76/76 [==============================] - 28s 369ms/step - loss: 0.1532 - accuracy: 0.9544 - val_loss: 0.0714 - val_accuracy: 0.9819\n",
      "Epoch 3/10\n",
      "76/76 [==============================] - 27s 355ms/step - loss: 0.0977 - accuracy: 0.9704 - val_loss: 0.0576 - val_accuracy: 0.9836\n",
      "Epoch 4/10\n",
      "76/76 [==============================] - 27s 352ms/step - loss: 0.0821 - accuracy: 0.9757 - val_loss: 0.0469 - val_accuracy: 0.9868\n",
      "Epoch 5/10\n",
      "76/76 [==============================] - 26s 343ms/step - loss: 0.0710 - accuracy: 0.9778 - val_loss: 0.0571 - val_accuracy: 0.9852\n",
      "Epoch 6/10\n",
      "76/76 [==============================] - 26s 349ms/step - loss: 0.0667 - accuracy: 0.9757 - val_loss: 0.0407 - val_accuracy: 0.9852\n",
      "Epoch 7/10\n",
      "76/76 [==============================] - 26s 346ms/step - loss: 0.0571 - accuracy: 0.9831 - val_loss: 0.0339 - val_accuracy: 0.9868\n",
      "Epoch 8/10\n",
      "76/76 [==============================] - 26s 346ms/step - loss: 0.0598 - accuracy: 0.9819 - val_loss: 0.0365 - val_accuracy: 0.9868\n",
      "Epoch 9/10\n",
      "76/76 [==============================] - 26s 348ms/step - loss: 0.0496 - accuracy: 0.9856 - val_loss: 0.0286 - val_accuracy: 0.9934\n",
      "Epoch 10/10\n",
      "76/76 [==============================] - 26s 344ms/step - loss: 0.0468 - accuracy: 0.9864 - val_loss: 0.0271 - val_accuracy: 0.9918\n"
     ]
    }
   ],
   "source": [
    "## training our model \n",
    "\n",
    "print(\"[INFO] training head...\")\n",
    "H = model.fit_generator(\n",
    "\ttrainAug.flow(X_train, Y_train, batch_size=BS),\n",
    "\tsteps_per_epoch=len(X_train) // BS,\n",
    "\tvalidation_data=(X_val, Y_val),\n",
    "\tvalidation_steps=len(X_val) // BS,\n",
    "\tepochs=EPOCHS)"
   ]
  },
  {
   "cell_type": "code",
   "execution_count": 41,
   "metadata": {},
   "outputs": [
    {
     "data": {
      "text/plain": [
       "Text(0.5, 0, 'epoch')"
      ]
     },
     "execution_count": 41,
     "metadata": {},
     "output_type": "execute_result"
    },
    {
     "data": {
      "image/png": "[encoded data removed]",
      "text/plain": [
       "<Figure size 432x288 with 1 Axes>"
      ]
     },
     "metadata": {
      "needs_background": "light"
     },
     "output_type": "display_data"
    }
   ],
   "source": [
    "plt.plot(H.history['accuracy'])\n",
    "plt.plot(H.history['val_accuracy'])\n",
    "plt.legend(['acc', 'val_accuracy'])\n",
    "plt.title('Accuracy')\n",
    "plt.xlabel('epoch')"
   ]
  },
  {
   "cell_type": "code",
   "execution_count": 42,
   "metadata": {},
   "outputs": [
    {
     "data": {
      "text/plain": [
       "Text(0.5, 0, 'epoch')"
      ]
     },
     "execution_count": 42,
     "metadata": {},
     "output_type": "execute_result"
    },
    {
     "data": {
      "image/png": "[encoded data removed]",
      "text/plain": [
       "<Figure size 432x288 with 1 Axes>"
      ]
     },
     "metadata": {
      "needs_background": "light"
     },
     "output_type": "display_data"
    }
   ],
   "source": [
    "plt.plot(H.history['loss'])\n",
    "plt.plot(H.history['val_loss'])\n",
    "plt.legend(['loss', 'val_loss'])\n",
    "plt.title('loss')\n",
    "plt.xlabel('epoch') "
   ]
  },
  {
   "cell_type": "code",
   "execution_count": 43,
   "metadata": {},
   "outputs": [],
   "source": [
    "model.save('model2.h5')"
   ]
  },
  {
   "cell_type": "code",
   "execution_count": 45,
   "metadata": {},
   "outputs": [],
   "source": [
    "#preparing our test data \n",
    "\n",
    "data_dir = 'D:/DatasetsCD/Test/'\n",
    "Categories = [\"COVID\",\"NORMAL\"]\n",
    "\n",
    "\n",
    "test_data = []\n",
    "\n",
    "\n",
    "for category in Categories:\n",
    "    path = os.path.join(data_dir,category)\n",
    "    class_num = Categories.index(category)\n",
    "    for img in(os.listdir(path)):\n",
    "        try:\n",
    "            img_array = cv2.imread(os.path.join(path,img),cv2.IMREAD_COLOR)\n",
    "            img_array = cv2.cvtColor(img_array,cv2.COLOR_BGR2RGB)\n",
    "            #img_array = img_array.astype('float32')\n",
    "            new_array = cv2.resize(img_array,(224 ,224))\n",
    "            test_data.append([np.array(new_array),class_num])\n",
    "        except Exception as e:\n",
    "            pass\n",
    "\n",
    "\n",
    "\n"
   ]
  },
  {
   "cell_type": "code",
   "execution_count": 46,
   "metadata": {},
   "outputs": [
    {
     "data": {
      "text/plain": [
       "769"
      ]
     },
     "execution_count": 46,
     "metadata": {},
     "output_type": "execute_result"
    }
   ],
   "source": [
    "len(test_data)"
   ]
  },
  {
   "cell_type": "code",
   "execution_count": 48,
   "metadata": {},
   "outputs": [
    {
     "name": "stdout",
     "output_type": "stream",
     "text": [
      "(769, 224, 224, 3)\n",
      "(769,)\n"
     ]
    }
   ],
   "source": [
    "\n",
    "test_img=[]\n",
    "labels = []\n",
    "\n",
    "for features, label in (test_data):\n",
    "    test_img.append(features)\n",
    "    labels.append(label)\n",
    "\n",
    "X_test = np.array(test_img)/255\n",
    "Y_test = np.array(labels)\n",
    "\n",
    "print(X_test.shape)\n",
    "print(Y_test.shape)\n"
   ]
  },
  {
   "cell_type": "code",
   "execution_count": 49,
   "metadata": {},
   "outputs": [
    {
     "name": "stdout",
     "output_type": "stream",
     "text": [
      "              precision    recall  f1-score   support\n",
      "\n",
      "           0       0.98      0.99      0.98       474\n",
      "           1       0.99      0.96      0.97       295\n",
      "\n",
      "    accuracy                           0.98       769\n",
      "   macro avg       0.98      0.98      0.98       769\n",
      "weighted avg       0.98      0.98      0.98       769\n",
      "\n",
      "[[470   4]\n",
      " [ 11 284]]\n"
     ]
    }
   ],
   "source": [
    "from sklearn.metrics import classification_report, confusion_matrix\n",
    "\n",
    "preds = model.predict(X_test)\n",
    "conf = confusion_matrix(Y_test, np.round(preds))\n",
    "print(classification_report(Y_test, np.round(preds)))\n",
    "print(conf)"
   ]
  },
  {
   "cell_type": "code",
   "execution_count": null,
   "metadata": {},
   "outputs": [],
   "source": []
  }
 ],
 "metadata": {
  "kernelspec": {
   "display_name": "TensorFlow-GPU",
   "language": "python",
   "name": "tf-gpu"
  },
  "language_info": {
   "codemirror_mode": {
    "name": "ipython",
    "version": 3
   },
   "file_extension": ".py",
   "mimetype": "text/x-python",
   "name": "python",
   "nbconvert_exporter": "python",
   "pygments_lexer": "ipython3",
   "version": "3.7.6"
  }
 },
 "nbformat": 4,
 "nbformat_minor": 4
}
